{
  "nbformat": 4,
  "nbformat_minor": 0,
  "metadata": {
    "colab": {
      "provenance": []
    },
    "kernelspec": {
      "name": "python3",
      "display_name": "Python 3"
    },
    "language_info": {
      "name": "python"
    }
  },
  "cells": [
    {
      "cell_type": "code",
      "execution_count": 13,
      "metadata": {
        "colab": {
          "base_uri": "https://localhost:8080/"
        },
        "id": "XUVNB8mmuEha",
        "outputId": "347e2780-2572-44d1-ecab-e7ea883b6864"
      },
      "outputs": [
        {
          "output_type": "stream",
          "name": "stdout",
          "text": [
            "Enter three keywords separated by spaces: hari telah berganti\n",
            "\n",
            "Generated Poem:\n",
            "berganti Demi kesembuhanmu Kuingin tetap sabar? Dan\n",
            "bahkan kini aq akan menertawaiku terus menunggu\n",
            "Apakah hatimu untuk yang buta Negeri 1001\n",
            "Malam tetaplah berbias warna putih Ku tersadar\n",
            "dari kedalaman\n"
          ]
        }
      ],
      "source": [
        "import pandas as pd\n",
        "from collections import defaultdict\n",
        "import random\n",
        "\n",
        "# Load dataset\n",
        "df = pd.read_csv('puisi.csv.zip')\n",
        "\n",
        "# Bigram model\n",
        "bigram_chain = defaultdict(list)\n",
        "\n",
        "for poem in df['puisi'].dropna():\n",
        "    words = poem.split()\n",
        "    for i in range(len(words) - 1):\n",
        "        bigram_chain[words[i]].append(words[i + 1])\n",
        "\n",
        "# Generate poems\n",
        "def generate_bigram_poem(start_words, length=30, line_length=7):\n",
        "    poem = []\n",
        "\n",
        "    if len(start_words) < 1:\n",
        "        return \"Please provide at least one starting word.\"\n",
        "\n",
        "    current_word = start_words[-1]\n",
        "\n",
        "    poem.append(current_word)\n",
        "\n",
        "    for _ in range(length - 1):\n",
        "        next_words = bigram_chain[current_word]\n",
        "        if not next_words:\n",
        "            break\n",
        "        next_word = random.choice(next_words)\n",
        "        poem.append(next_word)\n",
        "        current_word = next_word\n",
        "\n",
        "    formatted_poem = []\n",
        "    for i in range(0, len(poem), line_length):\n",
        "        formatted_poem.append(' '.join(poem[i:i + line_length]))\n",
        "\n",
        "    return '\\n'.join(formatted_poem)\n",
        "\n",
        "# User input\n",
        "user_input = input(\"Enter three keywords separated by spaces: \")\n",
        "start_words = user_input.strip().split()\n",
        "\n",
        "if len(start_words) < 1:\n",
        "    print(\"Please enter at least one keyword.\")\n",
        "else:\n",
        "    bigram_poem = generate_bigram_poem(start_words, length=30)\n",
        "    print(\"\\nGenerated Poem:\")\n",
        "    print(bigram_poem)"
      ]
    }
  ]
}