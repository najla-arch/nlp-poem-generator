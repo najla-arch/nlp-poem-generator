{
  "nbformat": 4,
  "nbformat_minor": 0,
  "metadata": {
    "colab": {
      "provenance": []
    },
    "kernelspec": {
      "name": "python3",
      "display_name": "Python 3"
    },
    "language_info": {
      "name": "python"
    }
  },
  "cells": [
    {
      "cell_type": "code",
      "execution_count": null,
      "metadata": {
        "colab": {
          "base_uri": "https://localhost:8080/"
        },
        "id": "APwvd1UnsYLZ",
        "outputId": "7ac95be5-09c1-4d6b-808e-eec7a27ad0ed"
      },
      "outputs": [
        {
          "output_type": "stream",
          "name": "stdout",
          "text": [
            "Enter three keywords separated by spaces: hari telah berganti\n",
            "Generated Poem:\n",
            "hari telah berlalu Hari demi hariku setia\n",
            "menantimu.... akhirnya engkaupun datang.... namun engkau datang\n",
            "Bila hanya untuk membahagiakanku. Karena .. Lukamu\n",
            "tak dapat lagi ku ungkiri Tuk pergi\n",
            "tinggalkan ku.\n"
          ]
        }
      ],
      "source": [
        "import pandas as pd\n",
        "from collections import defaultdict\n",
        "import random\n",
        "\n",
        "# Load dataset\n",
        "df = pd.read_csv('puisi.csv.zip')\n",
        "# Trigram model\n",
        "trigram_chain = defaultdict(list)\n",
        "\n",
        "for poem in df['puisi'].dropna():\n",
        "    words = poem.split()\n",
        "    for i in range(len(words) - 2):\n",
        "        trigram_chain[(words[i], words[i + 1])].append(words[i + 2])\n",
        "\n",
        "# Generate poems\n",
        "def generate_poem(start_words, length=30, line_length=7):\n",
        "    poem = []\n",
        "\n",
        "    if len(start_words) < 2:\n",
        "        return \"Please provide at least two starting words.\"\n",
        "\n",
        "    poem.extend(start_words[:2])\n",
        "\n",
        "    current_bigram = (start_words[0], start_words[1])\n",
        "\n",
        "    for _ in range(length - 2):\n",
        "        next_words = trigram_chain[current_bigram]\n",
        "        if not next_words:\n",
        "            break\n",
        "        next_word = random.choice(next_words)\n",
        "        if next_word is not None:\n",
        "            poem.append(next_word)\n",
        "            current_bigram = (current_bigram[1], next_word)\n",
        "        else:\n",
        "            break\n",
        "\n",
        "    formatted_poem = []\n",
        "    for i in range(0, len(poem), line_length):\n",
        "        formatted_poem.append(' '.join(poem[i:i + line_length]))\n",
        "\n",
        "    return '\\n'.join(formatted_poem)\n",
        "\n",
        "# User input\n",
        "user_input = input(\"Enter three keywords separated by spaces: \")\n",
        "start_words = user_input.split()\n",
        "\n",
        "if len(start_words) < 2:\n",
        "    print(\"Please enter at least two keywords.\")\n",
        "else:\n",
        "    poem = generate_poem(start_words, length=30)\n",
        "    print(\"Generated Poem:\")\n",
        "    print(poem)\n",
        "\n",
        "\n"
      ]
    }
  ]
}